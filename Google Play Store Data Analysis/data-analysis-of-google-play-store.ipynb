{
 "cells": [
  {
   "cell_type": "code",
   "execution_count": 1,
   "id": "6a6ab62d",
   "metadata": {
    "execution": {
     "iopub.execute_input": "2024-09-05T16:11:38.442813Z",
     "iopub.status.busy": "2024-09-05T16:11:38.442417Z",
     "iopub.status.idle": "2024-09-05T16:11:41.104205Z",
     "shell.execute_reply": "2024-09-05T16:11:41.103428Z"
    },
    "papermill": {
     "duration": 2.676776,
     "end_time": "2024-09-05T16:11:41.106648",
     "exception": false,
     "start_time": "2024-09-05T16:11:38.429872",
     "status": "completed"
    },
    "tags": []
   },
   "outputs": [],
   "source": [
    "import numpy as np \n",
    "import pandas as pd \n",
    "import matplotlib.pyplot as plt \n",
    "import seaborn as sns \n",
    "import plotly.express as px\n",
    "import warnings\n",
    "warnings.filterwarnings('ignore')"
   ]
  },
  {
   "cell_type": "code",
   "execution_count": 2,
   "id": "ff46bf40",
   "metadata": {
    "execution": {
     "iopub.execute_input": "2024-09-05T16:11:41.129346Z",
     "iopub.status.busy": "2024-09-05T16:11:41.128870Z",
     "iopub.status.idle": "2024-09-05T16:11:41.212689Z",
     "shell.execute_reply": "2024-09-05T16:11:41.211702Z"
    },
    "papermill": {
     "duration": 0.097617,
     "end_time": "2024-09-05T16:11:41.215016",
     "exception": false,
     "start_time": "2024-09-05T16:11:41.117399",
     "status": "completed"
    },
    "tags": []
   },
   "outputs": [],
   "source": [
    "data = pd.read_csv('/kaggle/input/google-play-store-apps/googleplaystore.csv')"
   ]
  },
  {
   "cell_type": "code",
   "execution_count": 3,
   "id": "55a6d98c",
   "metadata": {
    "execution": {
     "iopub.execute_input": "2024-09-05T16:11:41.237893Z",
     "iopub.status.busy": "2024-09-05T16:11:41.237270Z",
     "iopub.status.idle": "2024-09-05T16:11:41.261976Z",
     "shell.execute_reply": "2024-09-05T16:11:41.260823Z"
    },
    "papermill": {
     "duration": 0.038149,
     "end_time": "2024-09-05T16:11:41.263977",
     "exception": false,
     "start_time": "2024-09-05T16:11:41.225828",
     "status": "completed"
    },
    "tags": []
   },
   "outputs": [
    {
     "data": {
      "text/html": [
       "<div>\n",
       "<style scoped>\n",
       "    .dataframe tbody tr th:only-of-type {\n",
       "        vertical-align: middle;\n",
       "    }\n",
       "\n",
       "    .dataframe tbody tr th {\n",
       "        vertical-align: top;\n",
       "    }\n",
       "\n",
       "    .dataframe thead th {\n",
       "        text-align: right;\n",
       "    }\n",
       "</style>\n",
       "<table border=\"1\" class=\"dataframe\">\n",
       "  <thead>\n",
       "    <tr style=\"text-align: right;\">\n",
       "      <th></th>\n",
       "      <th>App</th>\n",
       "      <th>Category</th>\n",
       "      <th>Rating</th>\n",
       "      <th>Reviews</th>\n",
       "      <th>Size</th>\n",
       "      <th>Installs</th>\n",
       "      <th>Type</th>\n",
       "      <th>Price</th>\n",
       "      <th>Content Rating</th>\n",
       "      <th>Genres</th>\n",
       "      <th>Last Updated</th>\n",
       "      <th>Current Ver</th>\n",
       "      <th>Android Ver</th>\n",
       "    </tr>\n",
       "  </thead>\n",
       "  <tbody>\n",
       "    <tr>\n",
       "      <th>0</th>\n",
       "      <td>Photo Editor &amp; Candy Camera &amp; Grid &amp; ScrapBook</td>\n",
       "      <td>ART_AND_DESIGN</td>\n",
       "      <td>4.1</td>\n",
       "      <td>159</td>\n",
       "      <td>19M</td>\n",
       "      <td>10,000+</td>\n",
       "      <td>Free</td>\n",
       "      <td>0</td>\n",
       "      <td>Everyone</td>\n",
       "      <td>Art &amp; Design</td>\n",
       "      <td>January 7, 2018</td>\n",
       "      <td>1.0.0</td>\n",
       "      <td>4.0.3 and up</td>\n",
       "    </tr>\n",
       "    <tr>\n",
       "      <th>1</th>\n",
       "      <td>Coloring book moana</td>\n",
       "      <td>ART_AND_DESIGN</td>\n",
       "      <td>3.9</td>\n",
       "      <td>967</td>\n",
       "      <td>14M</td>\n",
       "      <td>500,000+</td>\n",
       "      <td>Free</td>\n",
       "      <td>0</td>\n",
       "      <td>Everyone</td>\n",
       "      <td>Art &amp; Design;Pretend Play</td>\n",
       "      <td>January 15, 2018</td>\n",
       "      <td>2.0.0</td>\n",
       "      <td>4.0.3 and up</td>\n",
       "    </tr>\n",
       "    <tr>\n",
       "      <th>2</th>\n",
       "      <td>U Launcher Lite – FREE Live Cool Themes, Hide ...</td>\n",
       "      <td>ART_AND_DESIGN</td>\n",
       "      <td>4.7</td>\n",
       "      <td>87510</td>\n",
       "      <td>8.7M</td>\n",
       "      <td>5,000,000+</td>\n",
       "      <td>Free</td>\n",
       "      <td>0</td>\n",
       "      <td>Everyone</td>\n",
       "      <td>Art &amp; Design</td>\n",
       "      <td>August 1, 2018</td>\n",
       "      <td>1.2.4</td>\n",
       "      <td>4.0.3 and up</td>\n",
       "    </tr>\n",
       "    <tr>\n",
       "      <th>3</th>\n",
       "      <td>Sketch - Draw &amp; Paint</td>\n",
       "      <td>ART_AND_DESIGN</td>\n",
       "      <td>4.5</td>\n",
       "      <td>215644</td>\n",
       "      <td>25M</td>\n",
       "      <td>50,000,000+</td>\n",
       "      <td>Free</td>\n",
       "      <td>0</td>\n",
       "      <td>Teen</td>\n",
       "      <td>Art &amp; Design</td>\n",
       "      <td>June 8, 2018</td>\n",
       "      <td>Varies with device</td>\n",
       "      <td>4.2 and up</td>\n",
       "    </tr>\n",
       "    <tr>\n",
       "      <th>4</th>\n",
       "      <td>Pixel Draw - Number Art Coloring Book</td>\n",
       "      <td>ART_AND_DESIGN</td>\n",
       "      <td>4.3</td>\n",
       "      <td>967</td>\n",
       "      <td>2.8M</td>\n",
       "      <td>100,000+</td>\n",
       "      <td>Free</td>\n",
       "      <td>0</td>\n",
       "      <td>Everyone</td>\n",
       "      <td>Art &amp; Design;Creativity</td>\n",
       "      <td>June 20, 2018</td>\n",
       "      <td>1.1</td>\n",
       "      <td>4.4 and up</td>\n",
       "    </tr>\n",
       "  </tbody>\n",
       "</table>\n",
       "</div>"
      ],
      "text/plain": [
       "                                                 App        Category  Rating  \\\n",
       "0     Photo Editor & Candy Camera & Grid & ScrapBook  ART_AND_DESIGN     4.1   \n",
       "1                                Coloring book moana  ART_AND_DESIGN     3.9   \n",
       "2  U Launcher Lite – FREE Live Cool Themes, Hide ...  ART_AND_DESIGN     4.7   \n",
       "3                              Sketch - Draw & Paint  ART_AND_DESIGN     4.5   \n",
       "4              Pixel Draw - Number Art Coloring Book  ART_AND_DESIGN     4.3   \n",
       "\n",
       "  Reviews  Size     Installs  Type Price Content Rating  \\\n",
       "0     159   19M      10,000+  Free     0       Everyone   \n",
       "1     967   14M     500,000+  Free     0       Everyone   \n",
       "2   87510  8.7M   5,000,000+  Free     0       Everyone   \n",
       "3  215644   25M  50,000,000+  Free     0           Teen   \n",
       "4     967  2.8M     100,000+  Free     0       Everyone   \n",
       "\n",
       "                      Genres      Last Updated         Current Ver  \\\n",
       "0               Art & Design   January 7, 2018               1.0.0   \n",
       "1  Art & Design;Pretend Play  January 15, 2018               2.0.0   \n",
       "2               Art & Design    August 1, 2018               1.2.4   \n",
       "3               Art & Design      June 8, 2018  Varies with device   \n",
       "4    Art & Design;Creativity     June 20, 2018                 1.1   \n",
       "\n",
       "    Android Ver  \n",
       "0  4.0.3 and up  \n",
       "1  4.0.3 and up  \n",
       "2  4.0.3 and up  \n",
       "3    4.2 and up  \n",
       "4    4.4 and up  "
      ]
     },
     "execution_count": 3,
     "metadata": {},
     "output_type": "execute_result"
    }
   ],
   "source": [
    "data.head()"
   ]
  },
  {
   "cell_type": "code",
   "execution_count": 4,
   "id": "8f0a4d5f",
   "metadata": {
    "execution": {
     "iopub.execute_input": "2024-09-05T16:11:41.287131Z",
     "iopub.status.busy": "2024-09-05T16:11:41.286826Z",
     "iopub.status.idle": "2024-09-05T16:11:41.308973Z",
     "shell.execute_reply": "2024-09-05T16:11:41.308060Z"
    },
    "papermill": {
     "duration": 0.036235,
     "end_time": "2024-09-05T16:11:41.311094",
     "exception": false,
     "start_time": "2024-09-05T16:11:41.274859",
     "status": "completed"
    },
    "tags": []
   },
   "outputs": [
    {
     "data": {
      "text/html": [
       "<div>\n",
       "<style scoped>\n",
       "    .dataframe tbody tr th:only-of-type {\n",
       "        vertical-align: middle;\n",
       "    }\n",
       "\n",
       "    .dataframe tbody tr th {\n",
       "        vertical-align: top;\n",
       "    }\n",
       "\n",
       "    .dataframe thead th {\n",
       "        text-align: right;\n",
       "    }\n",
       "</style>\n",
       "<table border=\"1\" class=\"dataframe\">\n",
       "  <thead>\n",
       "    <tr style=\"text-align: right;\">\n",
       "      <th></th>\n",
       "      <th>App</th>\n",
       "      <th>Category</th>\n",
       "      <th>Rating</th>\n",
       "      <th>Reviews</th>\n",
       "      <th>Size</th>\n",
       "      <th>Installs</th>\n",
       "      <th>Type</th>\n",
       "      <th>Price</th>\n",
       "      <th>Content Rating</th>\n",
       "      <th>Genres</th>\n",
       "      <th>Last Updated</th>\n",
       "      <th>Current Ver</th>\n",
       "      <th>Android Ver</th>\n",
       "    </tr>\n",
       "  </thead>\n",
       "  <tbody>\n",
       "    <tr>\n",
       "      <th>4228</th>\n",
       "      <td>I Screen Dialer</td>\n",
       "      <td>TOOLS</td>\n",
       "      <td>4.1</td>\n",
       "      <td>8137</td>\n",
       "      <td>3.9M</td>\n",
       "      <td>1,000,000+</td>\n",
       "      <td>Free</td>\n",
       "      <td>0</td>\n",
       "      <td>Everyone</td>\n",
       "      <td>Tools</td>\n",
       "      <td>February 25, 2018</td>\n",
       "      <td>1.11</td>\n",
       "      <td>4.3 and up</td>\n",
       "    </tr>\n",
       "    <tr>\n",
       "      <th>3595</th>\n",
       "      <td>Kids Craft Ideas</td>\n",
       "      <td>PARENTING</td>\n",
       "      <td>4.1</td>\n",
       "      <td>99</td>\n",
       "      <td>6.6M</td>\n",
       "      <td>10,000+</td>\n",
       "      <td>Free</td>\n",
       "      <td>0</td>\n",
       "      <td>Everyone</td>\n",
       "      <td>Parenting</td>\n",
       "      <td>March 29, 2018</td>\n",
       "      <td>1.1</td>\n",
       "      <td>4.1 and up</td>\n",
       "    </tr>\n",
       "    <tr>\n",
       "      <th>1734</th>\n",
       "      <td>Super Jim Jump - pixel 3d</td>\n",
       "      <td>GAME</td>\n",
       "      <td>4.5</td>\n",
       "      <td>10434</td>\n",
       "      <td>18M</td>\n",
       "      <td>1,000,000+</td>\n",
       "      <td>Free</td>\n",
       "      <td>0</td>\n",
       "      <td>Everyone</td>\n",
       "      <td>Arcade</td>\n",
       "      <td>July 11, 2018</td>\n",
       "      <td>2.2.3181</td>\n",
       "      <td>4.0 and up</td>\n",
       "    </tr>\n",
       "    <tr>\n",
       "      <th>10687</th>\n",
       "      <td>Zombie Defense</td>\n",
       "      <td>FAMILY</td>\n",
       "      <td>4.3</td>\n",
       "      <td>275048</td>\n",
       "      <td>41M</td>\n",
       "      <td>10,000,000+</td>\n",
       "      <td>Free</td>\n",
       "      <td>0</td>\n",
       "      <td>Teen</td>\n",
       "      <td>Strategy</td>\n",
       "      <td>June 22, 2018</td>\n",
       "      <td>12.2</td>\n",
       "      <td>2.3 and up</td>\n",
       "    </tr>\n",
       "    <tr>\n",
       "      <th>2833</th>\n",
       "      <td>YouCam Makeup - Magic Selfie Makeovers</td>\n",
       "      <td>PHOTOGRAPHY</td>\n",
       "      <td>4.6</td>\n",
       "      <td>3337956</td>\n",
       "      <td>Varies with device</td>\n",
       "      <td>100,000,000+</td>\n",
       "      <td>Free</td>\n",
       "      <td>0</td>\n",
       "      <td>Everyone</td>\n",
       "      <td>Photography</td>\n",
       "      <td>August 6, 2018</td>\n",
       "      <td>Varies with device</td>\n",
       "      <td>Varies with device</td>\n",
       "    </tr>\n",
       "    <tr>\n",
       "      <th>3916</th>\n",
       "      <td>Lep's World 2 🍀🍀</td>\n",
       "      <td>GAME</td>\n",
       "      <td>4.3</td>\n",
       "      <td>798522</td>\n",
       "      <td>57M</td>\n",
       "      <td>100,000,000+</td>\n",
       "      <td>Free</td>\n",
       "      <td>0</td>\n",
       "      <td>Everyone 10+</td>\n",
       "      <td>Arcade</td>\n",
       "      <td>June 7, 2018</td>\n",
       "      <td>1.9.8.0</td>\n",
       "      <td>4.1 and up</td>\n",
       "    </tr>\n",
       "    <tr>\n",
       "      <th>8830</th>\n",
       "      <td>DS Tower Defence</td>\n",
       "      <td>GAME</td>\n",
       "      <td>3.2</td>\n",
       "      <td>768</td>\n",
       "      <td>1.4M</td>\n",
       "      <td>100,000+</td>\n",
       "      <td>Free</td>\n",
       "      <td>0</td>\n",
       "      <td>Everyone</td>\n",
       "      <td>Arcade</td>\n",
       "      <td>June 5, 2013</td>\n",
       "      <td>1.0</td>\n",
       "      <td>1.5 and up</td>\n",
       "    </tr>\n",
       "    <tr>\n",
       "      <th>5672</th>\n",
       "      <td>AU Call Blocker - Block Unwanted Calls Texts 2018</td>\n",
       "      <td>COMMUNICATION</td>\n",
       "      <td>4.2</td>\n",
       "      <td>16</td>\n",
       "      <td>3.3M</td>\n",
       "      <td>1,000+</td>\n",
       "      <td>Free</td>\n",
       "      <td>0</td>\n",
       "      <td>Everyone</td>\n",
       "      <td>Communication</td>\n",
       "      <td>April 24, 2018</td>\n",
       "      <td>1.0.4</td>\n",
       "      <td>4.1 and up</td>\n",
       "    </tr>\n",
       "    <tr>\n",
       "      <th>631</th>\n",
       "      <td>Friend Find: free chat + flirt dating app</td>\n",
       "      <td>DATING</td>\n",
       "      <td>NaN</td>\n",
       "      <td>23</td>\n",
       "      <td>11M</td>\n",
       "      <td>100+</td>\n",
       "      <td>Free</td>\n",
       "      <td>0</td>\n",
       "      <td>Mature 17+</td>\n",
       "      <td>Dating</td>\n",
       "      <td>July 31, 2018</td>\n",
       "      <td>1.0</td>\n",
       "      <td>4.4 and up</td>\n",
       "    </tr>\n",
       "    <tr>\n",
       "      <th>7347</th>\n",
       "      <td>boattheory.ch Full 2018</td>\n",
       "      <td>FAMILY</td>\n",
       "      <td>4.7</td>\n",
       "      <td>54</td>\n",
       "      <td>50M</td>\n",
       "      <td>1,000+</td>\n",
       "      <td>Paid</td>\n",
       "      <td>$19.40</td>\n",
       "      <td>Everyone</td>\n",
       "      <td>Education</td>\n",
       "      <td>November 18, 2017</td>\n",
       "      <td>3.1.2</td>\n",
       "      <td>4.2 and up</td>\n",
       "    </tr>\n",
       "  </tbody>\n",
       "</table>\n",
       "</div>"
      ],
      "text/plain": [
       "                                                     App       Category  \\\n",
       "4228                                     I Screen Dialer          TOOLS   \n",
       "3595                                    Kids Craft Ideas      PARENTING   \n",
       "1734                           Super Jim Jump - pixel 3d           GAME   \n",
       "10687                                     Zombie Defense         FAMILY   \n",
       "2833              YouCam Makeup - Magic Selfie Makeovers    PHOTOGRAPHY   \n",
       "3916                                    Lep's World 2 🍀🍀           GAME   \n",
       "8830                                    DS Tower Defence           GAME   \n",
       "5672   AU Call Blocker - Block Unwanted Calls Texts 2018  COMMUNICATION   \n",
       "631            Friend Find: free chat + flirt dating app         DATING   \n",
       "7347                             boattheory.ch Full 2018         FAMILY   \n",
       "\n",
       "       Rating  Reviews                Size      Installs  Type   Price  \\\n",
       "4228      4.1     8137                3.9M    1,000,000+  Free       0   \n",
       "3595      4.1       99                6.6M       10,000+  Free       0   \n",
       "1734      4.5    10434                 18M    1,000,000+  Free       0   \n",
       "10687     4.3   275048                 41M   10,000,000+  Free       0   \n",
       "2833      4.6  3337956  Varies with device  100,000,000+  Free       0   \n",
       "3916      4.3   798522                 57M  100,000,000+  Free       0   \n",
       "8830      3.2      768                1.4M      100,000+  Free       0   \n",
       "5672      4.2       16                3.3M        1,000+  Free       0   \n",
       "631       NaN       23                 11M          100+  Free       0   \n",
       "7347      4.7       54                 50M        1,000+  Paid  $19.40   \n",
       "\n",
       "      Content Rating         Genres       Last Updated         Current Ver  \\\n",
       "4228        Everyone          Tools  February 25, 2018                1.11   \n",
       "3595        Everyone      Parenting     March 29, 2018                 1.1   \n",
       "1734        Everyone         Arcade      July 11, 2018            2.2.3181   \n",
       "10687           Teen       Strategy      June 22, 2018                12.2   \n",
       "2833        Everyone    Photography     August 6, 2018  Varies with device   \n",
       "3916    Everyone 10+         Arcade       June 7, 2018             1.9.8.0   \n",
       "8830        Everyone         Arcade       June 5, 2013                 1.0   \n",
       "5672        Everyone  Communication     April 24, 2018               1.0.4   \n",
       "631       Mature 17+         Dating      July 31, 2018                 1.0   \n",
       "7347        Everyone      Education  November 18, 2017               3.1.2   \n",
       "\n",
       "              Android Ver  \n",
       "4228           4.3 and up  \n",
       "3595           4.1 and up  \n",
       "1734           4.0 and up  \n",
       "10687          2.3 and up  \n",
       "2833   Varies with device  \n",
       "3916           4.1 and up  \n",
       "8830           1.5 and up  \n",
       "5672           4.1 and up  \n",
       "631            4.4 and up  \n",
       "7347           4.2 and up  "
      ]
     },
     "execution_count": 4,
     "metadata": {},
     "output_type": "execute_result"
    }
   ],
   "source": [
    "data.sample(10)"
   ]
  },
  {
   "cell_type": "code",
   "execution_count": 5,
   "id": "fda79fa0",
   "metadata": {
    "execution": {
     "iopub.execute_input": "2024-09-05T16:11:41.335767Z",
     "iopub.status.busy": "2024-09-05T16:11:41.335078Z",
     "iopub.status.idle": "2024-09-05T16:11:41.365975Z",
     "shell.execute_reply": "2024-09-05T16:11:41.364993Z"
    },
    "papermill": {
     "duration": 0.045477,
     "end_time": "2024-09-05T16:11:41.368177",
     "exception": false,
     "start_time": "2024-09-05T16:11:41.322700",
     "status": "completed"
    },
    "tags": []
   },
   "outputs": [
    {
     "name": "stdout",
     "output_type": "stream",
     "text": [
      "<class 'pandas.core.frame.DataFrame'>\n",
      "RangeIndex: 10841 entries, 0 to 10840\n",
      "Data columns (total 13 columns):\n",
      " #   Column          Non-Null Count  Dtype  \n",
      "---  ------          --------------  -----  \n",
      " 0   App             10841 non-null  object \n",
      " 1   Category        10841 non-null  object \n",
      " 2   Rating          9367 non-null   float64\n",
      " 3   Reviews         10841 non-null  object \n",
      " 4   Size            10841 non-null  object \n",
      " 5   Installs        10841 non-null  object \n",
      " 6   Type            10840 non-null  object \n",
      " 7   Price           10841 non-null  object \n",
      " 8   Content Rating  10840 non-null  object \n",
      " 9   Genres          10841 non-null  object \n",
      " 10  Last Updated    10841 non-null  object \n",
      " 11  Current Ver     10833 non-null  object \n",
      " 12  Android Ver     10838 non-null  object \n",
      "dtypes: float64(1), object(12)\n",
      "memory usage: 1.1+ MB\n"
     ]
    }
   ],
   "source": [
    "data.info()"
   ]
  },
  {
   "cell_type": "code",
   "execution_count": 6,
   "id": "b5961870",
   "metadata": {
    "execution": {
     "iopub.execute_input": "2024-09-05T16:11:41.392921Z",
     "iopub.status.busy": "2024-09-05T16:11:41.392605Z",
     "iopub.status.idle": "2024-09-05T16:11:41.397218Z",
     "shell.execute_reply": "2024-09-05T16:11:41.396357Z"
    },
    "papermill": {
     "duration": 0.019293,
     "end_time": "2024-09-05T16:11:41.399726",
     "exception": false,
     "start_time": "2024-09-05T16:11:41.380433",
     "status": "completed"
    },
    "tags": []
   },
   "outputs": [
    {
     "name": "stdout",
     "output_type": "stream",
     "text": [
      "The number of rows are \"10841\" and the number of columns are \"13\"\n",
      "The name of the columns are: Index(['App', 'Category', 'Rating', 'Reviews', 'Size', 'Installs', 'Type',\n",
      "       'Price', 'Content Rating', 'Genres', 'Last Updated', 'Current Ver',\n",
      "       'Android Ver'],\n",
      "      dtype='object')\n"
     ]
    }
   ],
   "source": [
    "print(f'The number of rows are \"{data.shape[0]}\" and the number of columns are \"{data.shape[1]}\"')\n",
    "print(f'The name of the columns are: {data.columns}')"
   ]
  },
  {
   "cell_type": "code",
   "execution_count": 7,
   "id": "ec5579e6",
   "metadata": {
    "execution": {
     "iopub.execute_input": "2024-09-05T16:11:41.423273Z",
     "iopub.status.busy": "2024-09-05T16:11:41.422988Z",
     "iopub.status.idle": "2024-09-05T16:11:41.430041Z",
     "shell.execute_reply": "2024-09-05T16:11:41.429145Z"
    },
    "papermill": {
     "duration": 0.021274,
     "end_time": "2024-09-05T16:11:41.432115",
     "exception": false,
     "start_time": "2024-09-05T16:11:41.410841",
     "status": "completed"
    },
    "tags": []
   },
   "outputs": [
    {
     "name": "stdout",
     "output_type": "stream",
     "text": [
      "0\n",
      "['ART_AND_DESIGN' 'AUTO_AND_VEHICLES' 'BEAUTY' 'BOOKS_AND_REFERENCE'\n",
      " 'BUSINESS' 'COMICS' 'COMMUNICATION' 'DATING' 'EDUCATION' 'ENTERTAINMENT'\n",
      " 'EVENTS' 'FINANCE' 'FOOD_AND_DRINK' 'HEALTH_AND_FITNESS' 'HOUSE_AND_HOME'\n",
      " 'LIBRARIES_AND_DEMO' 'LIFESTYLE' 'GAME' 'FAMILY' 'MEDICAL' 'SOCIAL'\n",
      " 'SHOPPING' 'PHOTOGRAPHY' 'SPORTS' 'TRAVEL_AND_LOCAL' 'TOOLS'\n",
      " 'PERSONALIZATION' 'PRODUCTIVITY' 'PARENTING' 'WEATHER' 'VIDEO_PLAYERS'\n",
      " 'NEWS_AND_MAGAZINES' 'MAPS_AND_NAVIGATION' '1.9']\n"
     ]
    }
   ],
   "source": [
    "print(data['Category'].isnull().sum())\n",
    "print(data['Category'].unique())"
   ]
  },
  {
   "cell_type": "code",
   "execution_count": 8,
   "id": "8460ca7f",
   "metadata": {
    "execution": {
     "iopub.execute_input": "2024-09-05T16:11:41.455776Z",
     "iopub.status.busy": "2024-09-05T16:11:41.455504Z",
     "iopub.status.idle": "2024-09-05T16:11:41.471054Z",
     "shell.execute_reply": "2024-09-05T16:11:41.470237Z"
    },
    "papermill": {
     "duration": 0.029803,
     "end_time": "2024-09-05T16:11:41.473074",
     "exception": false,
     "start_time": "2024-09-05T16:11:41.443271",
     "status": "completed"
    },
    "tags": []
   },
   "outputs": [
    {
     "data": {
      "text/html": [
       "<div>\n",
       "<style scoped>\n",
       "    .dataframe tbody tr th:only-of-type {\n",
       "        vertical-align: middle;\n",
       "    }\n",
       "\n",
       "    .dataframe tbody tr th {\n",
       "        vertical-align: top;\n",
       "    }\n",
       "\n",
       "    .dataframe thead th {\n",
       "        text-align: right;\n",
       "    }\n",
       "</style>\n",
       "<table border=\"1\" class=\"dataframe\">\n",
       "  <thead>\n",
       "    <tr style=\"text-align: right;\">\n",
       "      <th></th>\n",
       "      <th>App</th>\n",
       "      <th>Category</th>\n",
       "      <th>Rating</th>\n",
       "      <th>Reviews</th>\n",
       "      <th>Size</th>\n",
       "      <th>Installs</th>\n",
       "      <th>Type</th>\n",
       "      <th>Price</th>\n",
       "      <th>Content Rating</th>\n",
       "      <th>Genres</th>\n",
       "      <th>Last Updated</th>\n",
       "      <th>Current Ver</th>\n",
       "      <th>Android Ver</th>\n",
       "    </tr>\n",
       "  </thead>\n",
       "  <tbody>\n",
       "    <tr>\n",
       "      <th>10472</th>\n",
       "      <td>Life Made WI-Fi Touchscreen Photo Frame</td>\n",
       "      <td>1.9</td>\n",
       "      <td>19.0</td>\n",
       "      <td>3.0M</td>\n",
       "      <td>1,000+</td>\n",
       "      <td>Free</td>\n",
       "      <td>0</td>\n",
       "      <td>Everyone</td>\n",
       "      <td>NaN</td>\n",
       "      <td>February 11, 2018</td>\n",
       "      <td>1.0.19</td>\n",
       "      <td>4.0 and up</td>\n",
       "      <td>NaN</td>\n",
       "    </tr>\n",
       "  </tbody>\n",
       "</table>\n",
       "</div>"
      ],
      "text/plain": [
       "                                           App Category  Rating Reviews  \\\n",
       "10472  Life Made WI-Fi Touchscreen Photo Frame      1.9    19.0    3.0M   \n",
       "\n",
       "         Size Installs Type     Price Content Rating             Genres  \\\n",
       "10472  1,000+     Free    0  Everyone            NaN  February 11, 2018   \n",
       "\n",
       "      Last Updated Current Ver Android Ver  \n",
       "10472       1.0.19  4.0 and up         NaN  "
      ]
     },
     "execution_count": 8,
     "metadata": {},
     "output_type": "execute_result"
    }
   ],
   "source": [
    "data[data['Category'] == '1.9']"
   ]
  },
  {
   "cell_type": "code",
   "execution_count": 9,
   "id": "787f1335",
   "metadata": {
    "execution": {
     "iopub.execute_input": "2024-09-05T16:11:41.497897Z",
     "iopub.status.busy": "2024-09-05T16:11:41.497152Z",
     "iopub.status.idle": "2024-09-05T16:11:41.505503Z",
     "shell.execute_reply": "2024-09-05T16:11:41.504805Z"
    },
    "papermill": {
     "duration": 0.022653,
     "end_time": "2024-09-05T16:11:41.507286",
     "exception": false,
     "start_time": "2024-09-05T16:11:41.484633",
     "status": "completed"
    },
    "tags": []
   },
   "outputs": [],
   "source": [
    "data.drop(10472, axis=0, inplace=True)"
   ]
  },
  {
   "cell_type": "code",
   "execution_count": 10,
   "id": "575d9d79",
   "metadata": {
    "execution": {
     "iopub.execute_input": "2024-09-05T16:11:41.532726Z",
     "iopub.status.busy": "2024-09-05T16:11:41.532065Z",
     "iopub.status.idle": "2024-09-05T16:11:41.541476Z",
     "shell.execute_reply": "2024-09-05T16:11:41.540639Z"
    },
    "papermill": {
     "duration": 0.024405,
     "end_time": "2024-09-05T16:11:41.543515",
     "exception": false,
     "start_time": "2024-09-05T16:11:41.519110",
     "status": "completed"
    },
    "tags": []
   },
   "outputs": [
    {
     "data": {
      "text/plain": [
       "Category\n",
       "FAMILY                 1972\n",
       "GAME                   1144\n",
       "TOOLS                   843\n",
       "MEDICAL                 463\n",
       "BUSINESS                460\n",
       "PRODUCTIVITY            424\n",
       "PERSONALIZATION         392\n",
       "COMMUNICATION           387\n",
       "SPORTS                  384\n",
       "LIFESTYLE               382\n",
       "FINANCE                 366\n",
       "HEALTH_AND_FITNESS      341\n",
       "PHOTOGRAPHY             335\n",
       "SOCIAL                  295\n",
       "NEWS_AND_MAGAZINES      283\n",
       "SHOPPING                260\n",
       "TRAVEL_AND_LOCAL        258\n",
       "DATING                  234\n",
       "BOOKS_AND_REFERENCE     231\n",
       "VIDEO_PLAYERS           175\n",
       "EDUCATION               156\n",
       "ENTERTAINMENT           149\n",
       "MAPS_AND_NAVIGATION     137\n",
       "FOOD_AND_DRINK          127\n",
       "HOUSE_AND_HOME           88\n",
       "LIBRARIES_AND_DEMO       85\n",
       "AUTO_AND_VEHICLES        85\n",
       "WEATHER                  82\n",
       "ART_AND_DESIGN           65\n",
       "EVENTS                   64\n",
       "COMICS                   60\n",
       "PARENTING                60\n",
       "BEAUTY                   53\n",
       "Name: count, dtype: int64"
      ]
     },
     "execution_count": 10,
     "metadata": {},
     "output_type": "execute_result"
    }
   ],
   "source": [
    "data['Category'].value_counts()"
   ]
  },
  {
   "cell_type": "code",
   "execution_count": 11,
   "id": "2554c372",
   "metadata": {
    "execution": {
     "iopub.execute_input": "2024-09-05T16:11:41.568694Z",
     "iopub.status.busy": "2024-09-05T16:11:41.568339Z",
     "iopub.status.idle": "2024-09-05T16:11:41.575092Z",
     "shell.execute_reply": "2024-09-05T16:11:41.574197Z"
    },
    "papermill": {
     "duration": 0.021542,
     "end_time": "2024-09-05T16:11:41.577035",
     "exception": false,
     "start_time": "2024-09-05T16:11:41.555493",
     "status": "completed"
    },
    "tags": []
   },
   "outputs": [],
   "source": [
    "data['Reviews'] = data['Reviews'].astype('int')"
   ]
  },
  {
   "cell_type": "code",
   "execution_count": 12,
   "id": "dfd3b3d9",
   "metadata": {
    "execution": {
     "iopub.execute_input": "2024-09-05T16:11:41.601796Z",
     "iopub.status.busy": "2024-09-05T16:11:41.601514Z",
     "iopub.status.idle": "2024-09-05T16:11:41.610093Z",
     "shell.execute_reply": "2024-09-05T16:11:41.609269Z"
    },
    "papermill": {
     "duration": 0.02314,
     "end_time": "2024-09-05T16:11:41.612122",
     "exception": false,
     "start_time": "2024-09-05T16:11:41.588982",
     "status": "completed"
    },
    "tags": []
   },
   "outputs": [
    {
     "name": "stdout",
     "output_type": "stream",
     "text": [
      "0\n",
      "['19M' '14M' '8.7M' '25M' '2.8M' '5.6M' '29M' '33M' '3.1M' '28M' '12M'\n",
      " '20M' '21M' '37M' '2.7M' '5.5M' '17M' '39M' '31M' '4.2M' '7.0M' '23M'\n",
      " '6.0M' '6.1M' '4.6M' '9.2M' '5.2M' '11M' '24M' 'Varies with device'\n",
      " '9.4M' '15M' '10M' '1.2M' '26M' '8.0M' '7.9M' '56M' '57M' '35M' '54M'\n",
      " '201k' '3.6M' '5.7M' '8.6M' '2.4M' '27M' '2.5M' '16M' '3.4M' '8.9M'\n",
      " '3.9M' '2.9M' '38M' '32M' '5.4M' '18M' '1.1M' '2.2M' '4.5M' '9.8M' '52M'\n",
      " '9.0M' '6.7M' '30M' '2.6M' '7.1M' '3.7M' '22M' '7.4M' '6.4M' '3.2M'\n",
      " '8.2M' '9.9M' '4.9M' '9.5M' '5.0M' '5.9M' '13M' '73M' '6.8M' '3.5M'\n",
      " '4.0M' '2.3M' '7.2M' '2.1M' '42M' '7.3M' '9.1M' '55M' '23k' '6.5M' '1.5M'\n",
      " '7.5M' '51M' '41M' '48M' '8.5M' '46M' '8.3M' '4.3M' '4.7M' '3.3M' '40M'\n",
      " '7.8M' '8.8M' '6.6M' '5.1M' '61M' '66M' '79k' '8.4M' '118k' '44M' '695k'\n",
      " '1.6M' '6.2M' '18k' '53M' '1.4M' '3.0M' '5.8M' '3.8M' '9.6M' '45M' '63M'\n",
      " '49M' '77M' '4.4M' '4.8M' '70M' '6.9M' '9.3M' '10.0M' '8.1M' '36M' '84M'\n",
      " '97M' '2.0M' '1.9M' '1.8M' '5.3M' '47M' '556k' '526k' '76M' '7.6M' '59M'\n",
      " '9.7M' '78M' '72M' '43M' '7.7M' '6.3M' '334k' '34M' '93M' '65M' '79M'\n",
      " '100M' '58M' '50M' '68M' '64M' '67M' '60M' '94M' '232k' '99M' '624k'\n",
      " '95M' '8.5k' '41k' '292k' '11k' '80M' '1.7M' '74M' '62M' '69M' '75M'\n",
      " '98M' '85M' '82M' '96M' '87M' '71M' '86M' '91M' '81M' '92M' '83M' '88M'\n",
      " '704k' '862k' '899k' '378k' '266k' '375k' '1.3M' '975k' '980k' '4.1M'\n",
      " '89M' '696k' '544k' '525k' '920k' '779k' '853k' '720k' '713k' '772k'\n",
      " '318k' '58k' '241k' '196k' '857k' '51k' '953k' '865k' '251k' '930k'\n",
      " '540k' '313k' '746k' '203k' '26k' '314k' '239k' '371k' '220k' '730k'\n",
      " '756k' '91k' '293k' '17k' '74k' '14k' '317k' '78k' '924k' '902k' '818k'\n",
      " '81k' '939k' '169k' '45k' '475k' '965k' '90M' '545k' '61k' '283k' '655k'\n",
      " '714k' '93k' '872k' '121k' '322k' '1.0M' '976k' '172k' '238k' '549k'\n",
      " '206k' '954k' '444k' '717k' '210k' '609k' '308k' '705k' '306k' '904k'\n",
      " '473k' '175k' '350k' '383k' '454k' '421k' '70k' '812k' '442k' '842k'\n",
      " '417k' '412k' '459k' '478k' '335k' '782k' '721k' '430k' '429k' '192k'\n",
      " '200k' '460k' '728k' '496k' '816k' '414k' '506k' '887k' '613k' '243k'\n",
      " '569k' '778k' '683k' '592k' '319k' '186k' '840k' '647k' '191k' '373k'\n",
      " '437k' '598k' '716k' '585k' '982k' '222k' '219k' '55k' '948k' '323k'\n",
      " '691k' '511k' '951k' '963k' '25k' '554k' '351k' '27k' '82k' '208k' '913k'\n",
      " '514k' '551k' '29k' '103k' '898k' '743k' '116k' '153k' '209k' '353k'\n",
      " '499k' '173k' '597k' '809k' '122k' '411k' '400k' '801k' '787k' '237k'\n",
      " '50k' '643k' '986k' '97k' '516k' '837k' '780k' '961k' '269k' '20k' '498k'\n",
      " '600k' '749k' '642k' '881k' '72k' '656k' '601k' '221k' '228k' '108k'\n",
      " '940k' '176k' '33k' '663k' '34k' '942k' '259k' '164k' '458k' '245k'\n",
      " '629k' '28k' '288k' '775k' '785k' '636k' '916k' '994k' '309k' '485k'\n",
      " '914k' '903k' '608k' '500k' '54k' '562k' '847k' '957k' '688k' '811k'\n",
      " '270k' '48k' '329k' '523k' '921k' '874k' '981k' '784k' '280k' '24k'\n",
      " '518k' '754k' '892k' '154k' '860k' '364k' '387k' '626k' '161k' '879k'\n",
      " '39k' '970k' '170k' '141k' '160k' '144k' '143k' '190k' '376k' '193k'\n",
      " '246k' '73k' '658k' '992k' '253k' '420k' '404k' '470k' '226k' '240k'\n",
      " '89k' '234k' '257k' '861k' '467k' '157k' '44k' '676k' '67k' '552k' '885k'\n",
      " '1020k' '582k' '619k']\n"
     ]
    }
   ],
   "source": [
    "print(data['Size'].isnull().sum())\n",
    "print(data['Size'].unique())"
   ]
  },
  {
   "cell_type": "code",
   "execution_count": 13,
   "id": "834be9f5",
   "metadata": {
    "execution": {
     "iopub.execute_input": "2024-09-05T16:11:41.637832Z",
     "iopub.status.busy": "2024-09-05T16:11:41.637569Z",
     "iopub.status.idle": "2024-09-05T16:11:41.663350Z",
     "shell.execute_reply": "2024-09-05T16:11:41.662393Z"
    },
    "papermill": {
     "duration": 0.040297,
     "end_time": "2024-09-05T16:11:41.665304",
     "exception": false,
     "start_time": "2024-09-05T16:11:41.625007",
     "status": "completed"
    },
    "tags": []
   },
   "outputs": [
    {
     "name": "stdout",
     "output_type": "stream",
     "text": [
      "Number of M in Size Column 8829\n",
      "Number of k in Size Column 316\n",
      "Number of Varies with device in Size Column 1695\n"
     ]
    }
   ],
   "source": [
    "print(\"Number of M in Size Column\", data['Size'].loc[data['Size'].str.contains('M')].value_counts().sum())\n",
    "print(\"Number of k in Size Column\", data['Size'].loc[data['Size'].str.contains('k')].value_counts().sum())\n",
    "print(\"Number of Varies with device in Size Column\", data['Size'].loc[data['Size'].str.contains('Varies with device')].value_counts().sum())"
   ]
  },
  {
   "cell_type": "code",
   "execution_count": 14,
   "id": "5d4ada8f",
   "metadata": {
    "execution": {
     "iopub.execute_input": "2024-09-05T16:11:41.691023Z",
     "iopub.status.busy": "2024-09-05T16:11:41.690723Z",
     "iopub.status.idle": "2024-09-05T16:11:41.705548Z",
     "shell.execute_reply": "2024-09-05T16:11:41.704684Z"
    },
    "papermill": {
     "duration": 0.029983,
     "end_time": "2024-09-05T16:11:41.707457",
     "exception": false,
     "start_time": "2024-09-05T16:11:41.677474",
     "status": "completed"
    },
    "tags": []
   },
   "outputs": [],
   "source": [
    "def convert_into_mb(size):\n",
    "    if isinstance(size, str):\n",
    "        if 'k' in size:\n",
    "            return float(size.replace(\"k\", \"\")) / 1024  \n",
    "        elif 'M' in size:\n",
    "            return float(size.replace(\"M\", \"\"))  \n",
    "        elif 'Varies with device' in size:\n",
    "            return np.nan  \n",
    "    return size\n",
    "\n",
    "data['Size_MB'] = data['Size'].apply(convert_into_mb)"
   ]
  },
  {
   "cell_type": "code",
   "execution_count": 15,
   "id": "556733e9",
   "metadata": {
    "execution": {
     "iopub.execute_input": "2024-09-05T16:11:41.732533Z",
     "iopub.status.busy": "2024-09-05T16:11:41.732188Z",
     "iopub.status.idle": "2024-09-05T16:11:41.740232Z",
     "shell.execute_reply": "2024-09-05T16:11:41.739351Z"
    },
    "papermill": {
     "duration": 0.022833,
     "end_time": "2024-09-05T16:11:41.742187",
     "exception": false,
     "start_time": "2024-09-05T16:11:41.719354",
     "status": "completed"
    },
    "tags": []
   },
   "outputs": [],
   "source": [
    "data.drop(columns=['Size'], inplace=True)"
   ]
  },
  {
   "cell_type": "code",
   "execution_count": 16,
   "id": "bf8f22c9",
   "metadata": {
    "execution": {
     "iopub.execute_input": "2024-09-05T16:11:41.767728Z",
     "iopub.status.busy": "2024-09-05T16:11:41.767131Z",
     "iopub.status.idle": "2024-09-05T16:11:41.787324Z",
     "shell.execute_reply": "2024-09-05T16:11:41.786503Z"
    },
    "papermill": {
     "duration": 0.035301,
     "end_time": "2024-09-05T16:11:41.789461",
     "exception": false,
     "start_time": "2024-09-05T16:11:41.754160",
     "status": "completed"
    },
    "tags": []
   },
   "outputs": [
    {
     "data": {
      "text/html": [
       "<div>\n",
       "<style scoped>\n",
       "    .dataframe tbody tr th:only-of-type {\n",
       "        vertical-align: middle;\n",
       "    }\n",
       "\n",
       "    .dataframe tbody tr th {\n",
       "        vertical-align: top;\n",
       "    }\n",
       "\n",
       "    .dataframe thead th {\n",
       "        text-align: right;\n",
       "    }\n",
       "</style>\n",
       "<table border=\"1\" class=\"dataframe\">\n",
       "  <thead>\n",
       "    <tr style=\"text-align: right;\">\n",
       "      <th></th>\n",
       "      <th>App</th>\n",
       "      <th>Category</th>\n",
       "      <th>Rating</th>\n",
       "      <th>Reviews</th>\n",
       "      <th>Installs</th>\n",
       "      <th>Type</th>\n",
       "      <th>Price</th>\n",
       "      <th>Content Rating</th>\n",
       "      <th>Genres</th>\n",
       "      <th>Last Updated</th>\n",
       "      <th>Current Ver</th>\n",
       "      <th>Android Ver</th>\n",
       "      <th>Size_MB</th>\n",
       "    </tr>\n",
       "  </thead>\n",
       "  <tbody>\n",
       "    <tr>\n",
       "      <th>0</th>\n",
       "      <td>Photo Editor &amp; Candy Camera &amp; Grid &amp; ScrapBook</td>\n",
       "      <td>ART_AND_DESIGN</td>\n",
       "      <td>4.1</td>\n",
       "      <td>159</td>\n",
       "      <td>10,000+</td>\n",
       "      <td>Free</td>\n",
       "      <td>0</td>\n",
       "      <td>Everyone</td>\n",
       "      <td>Art &amp; Design</td>\n",
       "      <td>January 7, 2018</td>\n",
       "      <td>1.0.0</td>\n",
       "      <td>4.0.3 and up</td>\n",
       "      <td>19.0</td>\n",
       "    </tr>\n",
       "    <tr>\n",
       "      <th>1</th>\n",
       "      <td>Coloring book moana</td>\n",
       "      <td>ART_AND_DESIGN</td>\n",
       "      <td>3.9</td>\n",
       "      <td>967</td>\n",
       "      <td>500,000+</td>\n",
       "      <td>Free</td>\n",
       "      <td>0</td>\n",
       "      <td>Everyone</td>\n",
       "      <td>Art &amp; Design;Pretend Play</td>\n",
       "      <td>January 15, 2018</td>\n",
       "      <td>2.0.0</td>\n",
       "      <td>4.0.3 and up</td>\n",
       "      <td>14.0</td>\n",
       "    </tr>\n",
       "    <tr>\n",
       "      <th>2</th>\n",
       "      <td>U Launcher Lite – FREE Live Cool Themes, Hide ...</td>\n",
       "      <td>ART_AND_DESIGN</td>\n",
       "      <td>4.7</td>\n",
       "      <td>87510</td>\n",
       "      <td>5,000,000+</td>\n",
       "      <td>Free</td>\n",
       "      <td>0</td>\n",
       "      <td>Everyone</td>\n",
       "      <td>Art &amp; Design</td>\n",
       "      <td>August 1, 2018</td>\n",
       "      <td>1.2.4</td>\n",
       "      <td>4.0.3 and up</td>\n",
       "      <td>8.7</td>\n",
       "    </tr>\n",
       "    <tr>\n",
       "      <th>3</th>\n",
       "      <td>Sketch - Draw &amp; Paint</td>\n",
       "      <td>ART_AND_DESIGN</td>\n",
       "      <td>4.5</td>\n",
       "      <td>215644</td>\n",
       "      <td>50,000,000+</td>\n",
       "      <td>Free</td>\n",
       "      <td>0</td>\n",
       "      <td>Teen</td>\n",
       "      <td>Art &amp; Design</td>\n",
       "      <td>June 8, 2018</td>\n",
       "      <td>Varies with device</td>\n",
       "      <td>4.2 and up</td>\n",
       "      <td>25.0</td>\n",
       "    </tr>\n",
       "    <tr>\n",
       "      <th>4</th>\n",
       "      <td>Pixel Draw - Number Art Coloring Book</td>\n",
       "      <td>ART_AND_DESIGN</td>\n",
       "      <td>4.3</td>\n",
       "      <td>967</td>\n",
       "      <td>100,000+</td>\n",
       "      <td>Free</td>\n",
       "      <td>0</td>\n",
       "      <td>Everyone</td>\n",
       "      <td>Art &amp; Design;Creativity</td>\n",
       "      <td>June 20, 2018</td>\n",
       "      <td>1.1</td>\n",
       "      <td>4.4 and up</td>\n",
       "      <td>2.8</td>\n",
       "    </tr>\n",
       "    <tr>\n",
       "      <th>...</th>\n",
       "      <td>...</td>\n",
       "      <td>...</td>\n",
       "      <td>...</td>\n",
       "      <td>...</td>\n",
       "      <td>...</td>\n",
       "      <td>...</td>\n",
       "      <td>...</td>\n",
       "      <td>...</td>\n",
       "      <td>...</td>\n",
       "      <td>...</td>\n",
       "      <td>...</td>\n",
       "      <td>...</td>\n",
       "      <td>...</td>\n",
       "    </tr>\n",
       "    <tr>\n",
       "      <th>95</th>\n",
       "      <td>All of the parking lot - National Park applica...</td>\n",
       "      <td>AUTO_AND_VEHICLES</td>\n",
       "      <td>4.0</td>\n",
       "      <td>1754</td>\n",
       "      <td>500,000+</td>\n",
       "      <td>Free</td>\n",
       "      <td>0</td>\n",
       "      <td>Everyone</td>\n",
       "      <td>Auto &amp; Vehicles</td>\n",
       "      <td>June 2, 2018</td>\n",
       "      <td>2.3.4</td>\n",
       "      <td>4.0 and up</td>\n",
       "      <td>14.0</td>\n",
       "    </tr>\n",
       "    <tr>\n",
       "      <th>96</th>\n",
       "      <td>Inquiry Fines and Debits of Vehicles</td>\n",
       "      <td>AUTO_AND_VEHICLES</td>\n",
       "      <td>4.4</td>\n",
       "      <td>2680</td>\n",
       "      <td>500,000+</td>\n",
       "      <td>Free</td>\n",
       "      <td>0</td>\n",
       "      <td>Everyone</td>\n",
       "      <td>Auto &amp; Vehicles</td>\n",
       "      <td>March 20, 2018</td>\n",
       "      <td>1.03</td>\n",
       "      <td>4.0.3 and up</td>\n",
       "      <td>2.2</td>\n",
       "    </tr>\n",
       "    <tr>\n",
       "      <th>97</th>\n",
       "      <td>Gas Station</td>\n",
       "      <td>AUTO_AND_VEHICLES</td>\n",
       "      <td>4.0</td>\n",
       "      <td>1288</td>\n",
       "      <td>100,000+</td>\n",
       "      <td>Free</td>\n",
       "      <td>0</td>\n",
       "      <td>Everyone</td>\n",
       "      <td>Auto &amp; Vehicles</td>\n",
       "      <td>April 21, 2018</td>\n",
       "      <td>2.17</td>\n",
       "      <td>4.0 and up</td>\n",
       "      <td>4.5</td>\n",
       "    </tr>\n",
       "    <tr>\n",
       "      <th>98</th>\n",
       "      <td>Hush - Beauty for Everyone</td>\n",
       "      <td>BEAUTY</td>\n",
       "      <td>4.7</td>\n",
       "      <td>18900</td>\n",
       "      <td>500,000+</td>\n",
       "      <td>Free</td>\n",
       "      <td>0</td>\n",
       "      <td>Everyone</td>\n",
       "      <td>Beauty</td>\n",
       "      <td>August 2, 2018</td>\n",
       "      <td>6.10.1</td>\n",
       "      <td>5.0 and up</td>\n",
       "      <td>17.0</td>\n",
       "    </tr>\n",
       "    <tr>\n",
       "      <th>99</th>\n",
       "      <td>ipsy: Makeup, Beauty, and Tips</td>\n",
       "      <td>BEAUTY</td>\n",
       "      <td>4.9</td>\n",
       "      <td>49790</td>\n",
       "      <td>1,000,000+</td>\n",
       "      <td>Free</td>\n",
       "      <td>0</td>\n",
       "      <td>Everyone</td>\n",
       "      <td>Beauty</td>\n",
       "      <td>November 9, 2017</td>\n",
       "      <td>2.3.0</td>\n",
       "      <td>4.1 and up</td>\n",
       "      <td>14.0</td>\n",
       "    </tr>\n",
       "  </tbody>\n",
       "</table>\n",
       "<p>100 rows × 13 columns</p>\n",
       "</div>"
      ],
      "text/plain": [
       "                                                  App           Category  \\\n",
       "0      Photo Editor & Candy Camera & Grid & ScrapBook     ART_AND_DESIGN   \n",
       "1                                 Coloring book moana     ART_AND_DESIGN   \n",
       "2   U Launcher Lite – FREE Live Cool Themes, Hide ...     ART_AND_DESIGN   \n",
       "3                               Sketch - Draw & Paint     ART_AND_DESIGN   \n",
       "4               Pixel Draw - Number Art Coloring Book     ART_AND_DESIGN   \n",
       "..                                                ...                ...   \n",
       "95  All of the parking lot - National Park applica...  AUTO_AND_VEHICLES   \n",
       "96               Inquiry Fines and Debits of Vehicles  AUTO_AND_VEHICLES   \n",
       "97                                        Gas Station  AUTO_AND_VEHICLES   \n",
       "98                         Hush - Beauty for Everyone             BEAUTY   \n",
       "99                     ipsy: Makeup, Beauty, and Tips             BEAUTY   \n",
       "\n",
       "    Rating  Reviews     Installs  Type Price Content Rating  \\\n",
       "0      4.1      159      10,000+  Free     0       Everyone   \n",
       "1      3.9      967     500,000+  Free     0       Everyone   \n",
       "2      4.7    87510   5,000,000+  Free     0       Everyone   \n",
       "3      4.5   215644  50,000,000+  Free     0           Teen   \n",
       "4      4.3      967     100,000+  Free     0       Everyone   \n",
       "..     ...      ...          ...   ...   ...            ...   \n",
       "95     4.0     1754     500,000+  Free     0       Everyone   \n",
       "96     4.4     2680     500,000+  Free     0       Everyone   \n",
       "97     4.0     1288     100,000+  Free     0       Everyone   \n",
       "98     4.7    18900     500,000+  Free     0       Everyone   \n",
       "99     4.9    49790   1,000,000+  Free     0       Everyone   \n",
       "\n",
       "                       Genres      Last Updated         Current Ver  \\\n",
       "0                Art & Design   January 7, 2018               1.0.0   \n",
       "1   Art & Design;Pretend Play  January 15, 2018               2.0.0   \n",
       "2                Art & Design    August 1, 2018               1.2.4   \n",
       "3                Art & Design      June 8, 2018  Varies with device   \n",
       "4     Art & Design;Creativity     June 20, 2018                 1.1   \n",
       "..                        ...               ...                 ...   \n",
       "95            Auto & Vehicles      June 2, 2018               2.3.4   \n",
       "96            Auto & Vehicles    March 20, 2018                1.03   \n",
       "97            Auto & Vehicles    April 21, 2018                2.17   \n",
       "98                     Beauty    August 2, 2018              6.10.1   \n",
       "99                     Beauty  November 9, 2017               2.3.0   \n",
       "\n",
       "     Android Ver  Size_MB  \n",
       "0   4.0.3 and up     19.0  \n",
       "1   4.0.3 and up     14.0  \n",
       "2   4.0.3 and up      8.7  \n",
       "3     4.2 and up     25.0  \n",
       "4     4.4 and up      2.8  \n",
       "..           ...      ...  \n",
       "95    4.0 and up     14.0  \n",
       "96  4.0.3 and up      2.2  \n",
       "97    4.0 and up      4.5  \n",
       "98    5.0 and up     17.0  \n",
       "99    4.1 and up     14.0  \n",
       "\n",
       "[100 rows x 13 columns]"
      ]
     },
     "execution_count": 16,
     "metadata": {},
     "output_type": "execute_result"
    }
   ],
   "source": [
    "data.head(100)"
   ]
  },
  {
   "cell_type": "code",
   "execution_count": 17,
   "id": "a9408783",
   "metadata": {
    "execution": {
     "iopub.execute_input": "2024-09-05T16:11:41.816734Z",
     "iopub.status.busy": "2024-09-05T16:11:41.816432Z",
     "iopub.status.idle": "2024-09-05T16:11:41.823918Z",
     "shell.execute_reply": "2024-09-05T16:11:41.823035Z"
    },
    "papermill": {
     "duration": 0.022644,
     "end_time": "2024-09-05T16:11:41.825733",
     "exception": false,
     "start_time": "2024-09-05T16:11:41.803089",
     "status": "completed"
    },
    "tags": []
   },
   "outputs": [
    {
     "data": {
      "text/plain": [
       "0            10,000+\n",
       "1           500,000+\n",
       "2         5,000,000+\n",
       "3        50,000,000+\n",
       "4           100,000+\n",
       "            ...     \n",
       "10836         5,000+\n",
       "10837           100+\n",
       "10838         1,000+\n",
       "10839         1,000+\n",
       "10840    10,000,000+\n",
       "Name: Installs, Length: 10840, dtype: object"
      ]
     },
     "execution_count": 17,
     "metadata": {},
     "output_type": "execute_result"
    }
   ],
   "source": [
    "data['Installs']"
   ]
  },
  {
   "cell_type": "code",
   "execution_count": 18,
   "id": "62b14619",
   "metadata": {
    "execution": {
     "iopub.execute_input": "2024-09-05T16:11:41.851832Z",
     "iopub.status.busy": "2024-09-05T16:11:41.851547Z",
     "iopub.status.idle": "2024-09-05T16:11:41.872413Z",
     "shell.execute_reply": "2024-09-05T16:11:41.871681Z"
    },
    "papermill": {
     "duration": 0.036057,
     "end_time": "2024-09-05T16:11:41.874243",
     "exception": false,
     "start_time": "2024-09-05T16:11:41.838186",
     "status": "completed"
    },
    "tags": []
   },
   "outputs": [],
   "source": [
    "def installs(install):\n",
    "    if isinstance(install, str):\n",
    "        if '+' in install:\n",
    "            return install.replace(\"+\", \"\")\n",
    "    return int(install)\n",
    "\n",
    "data['Installs'] = data['Installs'].apply(installs)\n",
    "data['Installs'] = data['Installs'].apply(lambda x: x.replace(',', '') if ',' in str(x) else x)\n",
    "data['Installs'] = data['Installs'].astype('int')"
   ]
  },
  {
   "cell_type": "code",
   "execution_count": 19,
   "id": "3e10d33b",
   "metadata": {
    "execution": {
     "iopub.execute_input": "2024-09-05T16:11:41.900213Z",
     "iopub.status.busy": "2024-09-05T16:11:41.899551Z",
     "iopub.status.idle": "2024-09-05T16:11:41.908113Z",
     "shell.execute_reply": "2024-09-05T16:11:41.907259Z"
    },
    "papermill": {
     "duration": 0.023566,
     "end_time": "2024-09-05T16:11:41.910047",
     "exception": false,
     "start_time": "2024-09-05T16:11:41.886481",
     "status": "completed"
    },
    "tags": []
   },
   "outputs": [
    {
     "data": {
      "text/plain": [
       "Installs\n",
       "1000000       1579\n",
       "10000000      1252\n",
       "100000        1169\n",
       "10000         1054\n",
       "1000           907\n",
       "5000000        752\n",
       "100            719\n",
       "500000         539\n",
       "50000          479\n",
       "5000           477\n",
       "100000000      409\n",
       "10             386\n",
       "500            330\n",
       "50000000       289\n",
       "50             205\n",
       "5               82\n",
       "500000000       72\n",
       "1               67\n",
       "1000000000      58\n",
       "0               15\n",
       "Name: count, dtype: int64"
      ]
     },
     "execution_count": 19,
     "metadata": {},
     "output_type": "execute_result"
    }
   ],
   "source": [
    "data['Installs'].value_counts()"
   ]
  },
  {
   "cell_type": "code",
   "execution_count": 20,
   "id": "09c45446",
   "metadata": {
    "execution": {
     "iopub.execute_input": "2024-09-05T16:11:41.936562Z",
     "iopub.status.busy": "2024-09-05T16:11:41.936228Z",
     "iopub.status.idle": "2024-09-05T16:11:41.944740Z",
     "shell.execute_reply": "2024-09-05T16:11:41.944055Z"
    },
    "papermill": {
     "duration": 0.024017,
     "end_time": "2024-09-05T16:11:41.946609",
     "exception": false,
     "start_time": "2024-09-05T16:11:41.922592",
     "status": "completed"
    },
    "tags": []
   },
   "outputs": [],
   "source": [
    "bins = [-1, 0, 10, 1000, 10000, 100000, 1000000, 10000000, 10000000000]\n",
    "labels=['no', 'Very low', 'Low', 'Moderate', 'More than moderate', 'High', 'Very High', 'Top Notch']\n",
    "data['Installs_category'] = pd.cut(data['Installs'], bins=bins, labels=labels)"
   ]
  },
  {
   "cell_type": "code",
   "execution_count": 21,
   "id": "7751c84d",
   "metadata": {
    "execution": {
     "iopub.execute_input": "2024-09-05T16:11:41.973693Z",
     "iopub.status.busy": "2024-09-05T16:11:41.972831Z",
     "iopub.status.idle": "2024-09-05T16:11:41.981596Z",
     "shell.execute_reply": "2024-09-05T16:11:41.980716Z"
    },
    "papermill": {
     "duration": 0.024335,
     "end_time": "2024-09-05T16:11:41.983533",
     "exception": false,
     "start_time": "2024-09-05T16:11:41.959198",
     "status": "completed"
    },
    "tags": []
   },
   "outputs": [
    {
     "data": {
      "text/plain": [
       "Installs_category\n",
       "Low                   2161\n",
       "High                  2118\n",
       "Very High             2004\n",
       "More than moderate    1648\n",
       "Moderate              1531\n",
       "Top Notch              828\n",
       "Very low               535\n",
       "no                      15\n",
       "Name: count, dtype: int64"
      ]
     },
     "execution_count": 21,
     "metadata": {},
     "output_type": "execute_result"
    }
   ],
   "source": [
    "data['Installs_category'].value_counts()"
   ]
  },
  {
   "cell_type": "code",
   "execution_count": 22,
   "id": "d8eea099",
   "metadata": {
    "execution": {
     "iopub.execute_input": "2024-09-05T16:11:42.011193Z",
     "iopub.status.busy": "2024-09-05T16:11:42.010554Z",
     "iopub.status.idle": "2024-09-05T16:11:42.018284Z",
     "shell.execute_reply": "2024-09-05T16:11:42.017421Z"
    },
    "papermill": {
     "duration": 0.023812,
     "end_time": "2024-09-05T16:11:42.020289",
     "exception": false,
     "start_time": "2024-09-05T16:11:41.996477",
     "status": "completed"
    },
    "tags": []
   },
   "outputs": [
    {
     "data": {
      "text/plain": [
       "array(['0', '$4.99', '$3.99', '$6.99', '$1.49', '$2.99', '$7.99', '$5.99',\n",
       "       '$3.49', '$1.99', '$9.99', '$7.49', '$0.99', '$9.00', '$5.49',\n",
       "       '$10.00', '$24.99', '$11.99', '$79.99', '$16.99', '$14.99',\n",
       "       '$1.00', '$29.99', '$12.99', '$2.49', '$10.99', '$1.50', '$19.99',\n",
       "       '$15.99', '$33.99', '$74.99', '$39.99', '$3.95', '$4.49', '$1.70',\n",
       "       '$8.99', '$2.00', '$3.88', '$25.99', '$399.99', '$17.99',\n",
       "       '$400.00', '$3.02', '$1.76', '$4.84', '$4.77', '$1.61', '$2.50',\n",
       "       '$1.59', '$6.49', '$1.29', '$5.00', '$13.99', '$299.99', '$379.99',\n",
       "       '$37.99', '$18.99', '$389.99', '$19.90', '$8.49', '$1.75',\n",
       "       '$14.00', '$4.85', '$46.99', '$109.99', '$154.99', '$3.08',\n",
       "       '$2.59', '$4.80', '$1.96', '$19.40', '$3.90', '$4.59', '$15.46',\n",
       "       '$3.04', '$4.29', '$2.60', '$3.28', '$4.60', '$28.99', '$2.95',\n",
       "       '$2.90', '$1.97', '$200.00', '$89.99', '$2.56', '$30.99', '$3.61',\n",
       "       '$394.99', '$1.26', '$1.20', '$1.04'], dtype=object)"
      ]
     },
     "execution_count": 22,
     "metadata": {},
     "output_type": "execute_result"
    }
   ],
   "source": [
    "data['Price'].unique()"
   ]
  },
  {
   "cell_type": "code",
   "execution_count": 23,
   "id": "cbbb177f",
   "metadata": {
    "execution": {
     "iopub.execute_input": "2024-09-05T16:11:42.047091Z",
     "iopub.status.busy": "2024-09-05T16:11:42.046808Z",
     "iopub.status.idle": "2024-09-05T16:11:42.058945Z",
     "shell.execute_reply": "2024-09-05T16:11:42.058034Z"
    },
    "papermill": {
     "duration": 0.027774,
     "end_time": "2024-09-05T16:11:42.060951",
     "exception": false,
     "start_time": "2024-09-05T16:11:42.033177",
     "status": "completed"
    },
    "tags": []
   },
   "outputs": [],
   "source": [
    "def adjust_price(price):\n",
    "    if isinstance(price, str):\n",
    "        if '$' in price:\n",
    "            return price.replace(\"$\", \"\")\n",
    "    return price\n",
    "\n",
    "data['Price'] = data['Price'].apply(adjust_price)\n",
    "data['Price'] = data['Price'].astype('float')"
   ]
  },
  {
   "cell_type": "code",
   "execution_count": 24,
   "id": "4c17dd14",
   "metadata": {
    "execution": {
     "iopub.execute_input": "2024-09-05T16:11:42.087511Z",
     "iopub.status.busy": "2024-09-05T16:11:42.087207Z",
     "iopub.status.idle": "2024-09-05T16:11:42.111173Z",
     "shell.execute_reply": "2024-09-05T16:11:42.110336Z"
    },
    "papermill": {
     "duration": 0.039364,
     "end_time": "2024-09-05T16:11:42.113080",
     "exception": false,
     "start_time": "2024-09-05T16:11:42.073716",
     "status": "completed"
    },
    "tags": []
   },
   "outputs": [
    {
     "data": {
      "text/html": [
       "<div>\n",
       "<style scoped>\n",
       "    .dataframe tbody tr th:only-of-type {\n",
       "        vertical-align: middle;\n",
       "    }\n",
       "\n",
       "    .dataframe tbody tr th {\n",
       "        vertical-align: top;\n",
       "    }\n",
       "\n",
       "    .dataframe thead th {\n",
       "        text-align: right;\n",
       "    }\n",
       "</style>\n",
       "<table border=\"1\" class=\"dataframe\">\n",
       "  <thead>\n",
       "    <tr style=\"text-align: right;\">\n",
       "      <th></th>\n",
       "      <th>Rating</th>\n",
       "      <th>Reviews</th>\n",
       "      <th>Installs</th>\n",
       "      <th>Price</th>\n",
       "      <th>Size_MB</th>\n",
       "    </tr>\n",
       "  </thead>\n",
       "  <tbody>\n",
       "    <tr>\n",
       "      <th>count</th>\n",
       "      <td>9366.000000</td>\n",
       "      <td>1.084000e+04</td>\n",
       "      <td>1.084000e+04</td>\n",
       "      <td>10840.000000</td>\n",
       "      <td>9145.000000</td>\n",
       "    </tr>\n",
       "    <tr>\n",
       "      <th>mean</th>\n",
       "      <td>4.191757</td>\n",
       "      <td>4.441529e+05</td>\n",
       "      <td>1.546434e+07</td>\n",
       "      <td>1.027368</td>\n",
       "      <td>21.516165</td>\n",
       "    </tr>\n",
       "    <tr>\n",
       "      <th>std</th>\n",
       "      <td>0.515219</td>\n",
       "      <td>2.927761e+06</td>\n",
       "      <td>8.502936e+07</td>\n",
       "      <td>15.949703</td>\n",
       "      <td>22.589084</td>\n",
       "    </tr>\n",
       "    <tr>\n",
       "      <th>min</th>\n",
       "      <td>1.000000</td>\n",
       "      <td>0.000000e+00</td>\n",
       "      <td>0.000000e+00</td>\n",
       "      <td>0.000000</td>\n",
       "      <td>0.008301</td>\n",
       "    </tr>\n",
       "    <tr>\n",
       "      <th>25%</th>\n",
       "      <td>4.000000</td>\n",
       "      <td>3.800000e+01</td>\n",
       "      <td>1.000000e+03</td>\n",
       "      <td>0.000000</td>\n",
       "      <td>4.900000</td>\n",
       "    </tr>\n",
       "    <tr>\n",
       "      <th>50%</th>\n",
       "      <td>4.300000</td>\n",
       "      <td>2.094000e+03</td>\n",
       "      <td>1.000000e+05</td>\n",
       "      <td>0.000000</td>\n",
       "      <td>13.000000</td>\n",
       "    </tr>\n",
       "    <tr>\n",
       "      <th>75%</th>\n",
       "      <td>4.500000</td>\n",
       "      <td>5.477550e+04</td>\n",
       "      <td>5.000000e+06</td>\n",
       "      <td>0.000000</td>\n",
       "      <td>30.000000</td>\n",
       "    </tr>\n",
       "    <tr>\n",
       "      <th>max</th>\n",
       "      <td>5.000000</td>\n",
       "      <td>7.815831e+07</td>\n",
       "      <td>1.000000e+09</td>\n",
       "      <td>400.000000</td>\n",
       "      <td>100.000000</td>\n",
       "    </tr>\n",
       "  </tbody>\n",
       "</table>\n",
       "</div>"
      ],
      "text/plain": [
       "            Rating       Reviews      Installs         Price      Size_MB\n",
       "count  9366.000000  1.084000e+04  1.084000e+04  10840.000000  9145.000000\n",
       "mean      4.191757  4.441529e+05  1.546434e+07      1.027368    21.516165\n",
       "std       0.515219  2.927761e+06  8.502936e+07     15.949703    22.589084\n",
       "min       1.000000  0.000000e+00  0.000000e+00      0.000000     0.008301\n",
       "25%       4.000000  3.800000e+01  1.000000e+03      0.000000     4.900000\n",
       "50%       4.300000  2.094000e+03  1.000000e+05      0.000000    13.000000\n",
       "75%       4.500000  5.477550e+04  5.000000e+06      0.000000    30.000000\n",
       "max       5.000000  7.815831e+07  1.000000e+09    400.000000   100.000000"
      ]
     },
     "execution_count": 24,
     "metadata": {},
     "output_type": "execute_result"
    }
   ],
   "source": [
    "data.describe()"
   ]
  },
  {
   "cell_type": "markdown",
   "id": "69c00512",
   "metadata": {
    "papermill": {
     "duration": 0.012895,
     "end_time": "2024-09-05T16:11:42.139296",
     "exception": false,
     "start_time": "2024-09-05T16:11:42.126401",
     "status": "completed"
    },
    "tags": []
   },
   "source": [
    "## Statistical Summary from `data.describe()`\n",
    "\n",
    "The output of `data.describe()` provides a statistical overview of the numeric columns in the dataset. Here's a breakdown of the key metrics for each column:\n",
    "\n",
    "### 1. **Count**\n",
    "   - Shows the number of valid (non-null) values in each column.\n",
    "     - Example: \n",
    "       - `Rating`: 9366 valid values.\n",
    "       - `Reviews` and `Installs`: 10,840 valid values.\n",
    "       - `Size_MB`: 9145 valid values.\n",
    "       - `Price`: 10,840 valid values.\n",
    "\n",
    "### 2. **Mean (Average)**\n",
    "   - The average value for each column.\n",
    "     - Example:\n",
    "       - Average app rating is **4.19**.\n",
    "       - Average number of reviews is **444,153**.\n",
    "       - Average number of installs is **15.46 million**.\n",
    "       - Average app price is **1.03** (likely in dollars).\n",
    "       - Average app size is **21.52 MB**.\n",
    "\n",
    "### 3. **Standard Deviation (std)**\n",
    "   - Measures the variation or dispersion from the mean.\n",
    "     - Example:\n",
    "       - `Reviews`, `Installs`, and `Price` columns have large standard deviations, indicating significant data variability.\n",
    "       - `Price` has a standard deviation of **15.95**, meaning there are both free and expensive apps.\n",
    "\n",
    "### 4. **Minimum (min)**\n",
    "   - The smallest value in each column.\n",
    "     - Example:\n",
    "       - Minimum rating is **1.0**.\n",
    "       - Some apps have **0 reviews** and **0 installs**.\n",
    "       - Some apps are **free** (price of **0**).\n",
    "       - The smallest app size is **0.008 MB** (~8 KB).\n",
    "\n",
    "### 5. **25%, 50%, and 75% Percentiles (Quartiles)**\n",
    "   - These values divide the data into four parts:\n",
    "     - **25% (Q1)**:\n",
    "       - 25% of apps have a rating below **4.0**, fewer than **38 reviews**, a size less than **4.9 MB**, and are **free**.\n",
    "     - **50% (Median)**:\n",
    "       - The median app rating is **4.3**, with **2094 reviews**, and a size below **13 MB**.\n",
    "     - **75% (Q3)**:\n",
    "       - 75% of apps have a rating below **4.5**, more than **5 million installs**, and a size below **30 MB**.\n",
    "\n",
    "### 6. **Maximum (max)**\n",
    "   - The largest value in each column.\n",
    "     - Example:\n",
    "       - Maximum rating is **5.0**.\n",
    "       - The app with the most reviews has **78 million reviews**.\n",
    "       - An app has been downloaded up to **1 billion times**.\n",
    "       - The most expensive app costs **$400**.\n",
    "       - The largest app size is **100 MB**.\n",
    "\n",
    "### Overall Insights\n",
    "   - This statistical summary provides an overview of the dataset's distribution, indicating popular apps (with many reviews and installs), expensive apps, and the general app size trend."
   ]
  },
  {
   "cell_type": "code",
   "execution_count": 25,
   "id": "6ffbb920",
   "metadata": {
    "execution": {
     "iopub.execute_input": "2024-09-05T16:11:42.166776Z",
     "iopub.status.busy": "2024-09-05T16:11:42.166445Z",
     "iopub.status.idle": "2024-09-05T16:11:42.183186Z",
     "shell.execute_reply": "2024-09-05T16:11:42.182379Z"
    },
    "papermill": {
     "duration": 0.032961,
     "end_time": "2024-09-05T16:11:42.185248",
     "exception": false,
     "start_time": "2024-09-05T16:11:42.152287",
     "status": "completed"
    },
    "tags": []
   },
   "outputs": [
    {
     "data": {
      "text/plain": [
       "Size_MB              1695\n",
       "Rating               1474\n",
       "Current Ver             8\n",
       "Android Ver             2\n",
       "Type                    1\n",
       "Category                0\n",
       "Installs                0\n",
       "Reviews                 0\n",
       "App                     0\n",
       "Price                   0\n",
       "Last Updated            0\n",
       "Genres                  0\n",
       "Content Rating          0\n",
       "Installs_category       0\n",
       "dtype: int64"
      ]
     },
     "execution_count": 25,
     "metadata": {},
     "output_type": "execute_result"
    }
   ],
   "source": [
    "data.isnull().sum().sort_values(ascending=False)"
   ]
  },
  {
   "cell_type": "markdown",
   "id": "ac4457db",
   "metadata": {
    "papermill": {
     "duration": 0.013236,
     "end_time": "2024-09-05T16:11:42.212058",
     "exception": false,
     "start_time": "2024-09-05T16:11:42.198822",
     "status": "completed"
    },
    "tags": []
   },
   "source": [
    "### Explanation of Missing Values\n",
    "\n",
    "The output from `data.isnull().sum().sort_values(ascending=False)` provides a summary of the number of missing values in each column of the dataset, sorted in descending order. This helps in identifying which columns have missing data and the extent of missingness.\n",
    "\n",
    "1. **Size_MB (1695 missing values)**:\n",
    "   - This column has the highest number of missing values (1695). The `Size_MB` column likely represents the size of the application in megabytes, which could be missing for various reasons such as incomplete data entry.\n",
    "\n",
    "2. **Rating (1474 missing values)**:\n",
    "   - There are 1474 missing values in the `Rating` column. This may indicate that some apps do not have user ratings, which could occur if the app is newly released or hasn't received enough feedback.\n",
    "\n",
    "3. **Current Ver (8 missing values)**:\n",
    "   - There are 8 missing values in the `Current Ver` column, which suggests that the current version information for a few apps is unavailable.\n",
    "\n",
    "4. **Android Ver (2 missing values)**:\n",
    "   - There are 2 missing values in the `Android Ver` column, indicating that almost all apps have a specified Android version requirement, except for these few cases.\n",
    "\n",
    "5. **Type (1 missing value)**:\n",
    "   - There is 1 missing value in the `Type` column, which likely differentiates between free and paid apps. This could be due to a data entry error.\n",
    "\n",
    "6. **App, Category, Reviews, Installs, Price, Content Rating, Genres, Last Updated, and Installs_category (0 missing values)**:\n",
    "   - These columns have no missing values, meaning they contain complete data for all records in the dataset."
   ]
  },
  {
   "cell_type": "code",
   "execution_count": 26,
   "id": "c36aaaa4",
   "metadata": {
    "execution": {
     "iopub.execute_input": "2024-09-05T16:11:42.240347Z",
     "iopub.status.busy": "2024-09-05T16:11:42.239971Z",
     "iopub.status.idle": "2024-09-05T16:11:42.642019Z",
     "shell.execute_reply": "2024-09-05T16:11:42.641083Z"
    },
    "papermill": {
     "duration": 0.418704,
     "end_time": "2024-09-05T16:11:42.644125",
     "exception": false,
     "start_time": "2024-09-05T16:11:42.225421",
     "status": "completed"
    },
    "tags": []
   },
   "outputs": [
    {
     "data": {
      "text/plain": [
       "<Axes: >"
      ]
     },
     "execution_count": 26,
     "metadata": {},
     "output_type": "execute_result"
    },
    {
     "data": {
      "image/png": "[encoded data removed]",
      "text/plain": [
       "<Figure size 640x480 with 1 Axes>"
      ]
     },
     "metadata": {},
     "output_type": "display_data"
    }
   ],
   "source": [
    "sns.heatmap(data.isnull(), yticklabels=False, cbar=False, cmap='viridis')"
   ]
  },
  {
   "cell_type": "code",
   "execution_count": 27,
   "id": "407162ce",
   "metadata": {
    "execution": {
     "iopub.execute_input": "2024-09-05T16:11:42.673951Z",
     "iopub.status.busy": "2024-09-05T16:11:42.673586Z",
     "iopub.status.idle": "2024-09-05T16:11:43.102456Z",
     "shell.execute_reply": "2024-09-05T16:11:43.101542Z"
    },
    "papermill": {
     "duration": 0.446438,
     "end_time": "2024-09-05T16:11:43.104759",
     "exception": false,
     "start_time": "2024-09-05T16:11:42.658321",
     "status": "completed"
    },
    "tags": []
   },
   "outputs": [
    {
     "data": {
      "text/plain": [
       "Text(0.5, 1.0, 'Percentage of Missing Values in each Column')"
      ]
     },
     "execution_count": 27,
     "metadata": {},
     "output_type": "execute_result"
    },
    {
     "data": {
      "image/png": "[encoded data removed]",
      "text/plain": [
       "<Figure size 1600x600 with 1 Axes>"
      ]
     },
     "metadata": {},
     "output_type": "display_data"
    }
   ],
   "source": [
    "plt.figure(figsize=(16, 6))\n",
    "\n",
    "missing_percentage = data.isnull().sum()/len(data)*100\n",
    "missing_percentage.plot(kind='bar')\n",
    "\n",
    "plt.xlabel('Columns')\n",
    "plt.ylabel('Percentage')\n",
    "plt.title('Percentage of Missing Values in each Column')"
   ]
  },
  {
   "cell_type": "code",
   "execution_count": 28,
   "id": "be4bf67f",
   "metadata": {
    "execution": {
     "iopub.execute_input": "2024-09-05T16:11:43.136020Z",
     "iopub.status.busy": "2024-09-05T16:11:43.135677Z",
     "iopub.status.idle": "2024-09-05T16:11:43.143150Z",
     "shell.execute_reply": "2024-09-05T16:11:43.142279Z"
    },
    "papermill": {
     "duration": 0.025428,
     "end_time": "2024-09-05T16:11:43.145175",
     "exception": false,
     "start_time": "2024-09-05T16:11:43.119747",
     "status": "completed"
    },
    "tags": []
   },
   "outputs": [
    {
     "data": {
      "text/plain": [
       "['Rating', 'Reviews', 'Installs', 'Price', 'Size_MB']"
      ]
     },
     "execution_count": 28,
     "metadata": {},
     "output_type": "execute_result"
    }
   ],
   "source": [
    "numeric_data = [i for i in data.columns if data[i].dtype != 'object' ]\n",
    "numeric_data.remove(\"Installs_category\")\n",
    "numeric_data"
   ]
  },
  {
   "cell_type": "code",
   "execution_count": 29,
   "id": "c980aea0",
   "metadata": {
    "execution": {
     "iopub.execute_input": "2024-09-05T16:11:43.176761Z",
     "iopub.status.busy": "2024-09-05T16:11:43.176389Z",
     "iopub.status.idle": "2024-09-05T16:11:43.531336Z",
     "shell.execute_reply": "2024-09-05T16:11:43.530346Z"
    },
    "papermill": {
     "duration": 0.373403,
     "end_time": "2024-09-05T16:11:43.533591",
     "exception": false,
     "start_time": "2024-09-05T16:11:43.160188",
     "status": "completed"
    },
    "tags": []
   },
   "outputs": [
    {
     "data": {
      "image/png": "[encoded data removed]",
      "text/plain": [
       "<Figure size 1000x800 with 2 Axes>"
      ]
     },
     "metadata": {},
     "output_type": "display_data"
    }
   ],
   "source": [
    "correlation_matrix = data[numeric_data].corr()\n",
    "\n",
    "plt.figure(figsize=(10, 8))\n",
    "\n",
    "sns.heatmap(correlation_matrix, annot=True, cmap='coolwarm', fmt='.2f', linewidths=0.5)\n",
    "\n",
    "plt.title('Correlation Matrix')\n",
    "plt.show()"
   ]
  },
  {
   "cell_type": "markdown",
   "id": "4e73fd0a",
   "metadata": {
    "papermill": {
     "duration": 0.016269,
     "end_time": "2024-09-05T16:11:43.566317",
     "exception": false,
     "start_time": "2024-09-05T16:11:43.550048",
     "status": "completed"
    },
    "tags": []
   },
   "source": [
    "### Correlation Matrix Explanation\n",
    "\n",
    "The correlation matrix provided shows the relationships between five variables: Rating, Reviews, Installs, Price, and Size_MB. Each cell in the matrix represents the correlation coefficient between the two variables in that row and column. The correlation coefficient ranges from -1 to 1:\n",
    "\n",
    "- **1** indicates a perfect positive correlation,\n",
    "- **-1** indicates a perfect negative correlation,\n",
    "- **0** indicates no correlation.\n",
    "\n",
    "Here’s a breakdown of the correlations in the matrix:\n",
    "\n",
    "#### Correlation Coefficients\n",
    "\n",
    "- **Rating**\n",
    "  - **Reviews**: 0.0681\n",
    "    - There is a weak positive correlation between Rating and Reviews. This suggests that higher-rated apps tend to have slightly more reviews, but the relationship is not strong.\n",
    "  - **Installs**: 0.0514\n",
    "    - There is a very weak positive correlation between Rating and Installs. This indicates that there is almost no linear relationship between the rating of an app and the number of installs.\n",
    "  - **Price**: -0.0219\n",
    "    - There is a very weak negative correlation between Rating and Price. This suggests that the price of an app has almost no effect on its rating.\n",
    "  - **Size_MB**: 0.0837\n",
    "    - There is a weak positive correlation between Rating and Size_MB. This indicates a slight tendency for higher-rated apps to be larger in size, but the relationship is not strong.\n",
    "\n",
    "- **Reviews**\n",
    "  - **Installs**: 0.6431\n",
    "    - There is a moderate positive correlation between Reviews and Installs. This means that apps with more reviews tend to have more installs.\n",
    "  - **Price**: -0.0097\n",
    "    - There is an extremely weak negative correlation between Reviews and Price, indicating that the price of an app has almost no effect on the number of reviews.\n",
    "  - **Size_MB**: 0.2382\n",
    "    - There is a weak positive correlation between Reviews and Size_MB. This suggests that apps with more reviews tend to be slightly larger in size.\n",
    "\n",
    "- **Installs**\n",
    "  - **Price**: -0.0117\n",
    "    - There is an extremely weak negative correlation between Installs and Price. This indicates that the price of an app has almost no effect on the number of installs.\n",
    "  - **Size_MB**: 0.1648\n",
    "    - There is a weak positive correlation between Installs and Size_MB. This indicates a slight tendency for apps with more installs to be larger in size.\n",
    "\n",
    "- **Price**\n",
    "  - **Size_MB**: -0.0230\n",
    "    - There is an extremely weak negative correlation between Price and Size_MB, suggesting that the size of an app has almost no effect on its price.\n"
   ]
  },
  {
   "cell_type": "markdown",
   "id": "7a98c45c",
   "metadata": {
    "papermill": {
     "duration": 0.019547,
     "end_time": "2024-09-05T16:11:43.601820",
     "exception": false,
     "start_time": "2024-09-05T16:11:43.582273",
     "status": "completed"
    },
    "tags": []
   },
   "source": [
    "# Top 10 Categories with the Highest Number of Apps"
   ]
  },
  {
   "cell_type": "code",
   "execution_count": 30,
   "id": "f1faa733",
   "metadata": {
    "execution": {
     "iopub.execute_input": "2024-09-05T16:11:43.644580Z",
     "iopub.status.busy": "2024-09-05T16:11:43.644086Z",
     "iopub.status.idle": "2024-09-05T16:11:43.653644Z",
     "shell.execute_reply": "2024-09-05T16:11:43.652740Z"
    },
    "papermill": {
     "duration": 0.033487,
     "end_time": "2024-09-05T16:11:43.655642",
     "exception": false,
     "start_time": "2024-09-05T16:11:43.622155",
     "status": "completed"
    },
    "tags": []
   },
   "outputs": [
    {
     "data": {
      "text/plain": [
       "Category\n",
       "FAMILY             1972\n",
       "GAME               1144\n",
       "TOOLS               843\n",
       "MEDICAL             463\n",
       "BUSINESS            460\n",
       "PRODUCTIVITY        424\n",
       "PERSONALIZATION     392\n",
       "COMMUNICATION       387\n",
       "SPORTS              384\n",
       "LIFESTYLE           382\n",
       "Name: count, dtype: int64"
      ]
     },
     "execution_count": 30,
     "metadata": {},
     "output_type": "execute_result"
    }
   ],
   "source": [
    "data['Category'].value_counts().head(10)"
   ]
  },
  {
   "cell_type": "markdown",
   "id": "f10f230b",
   "metadata": {
    "papermill": {
     "duration": 0.015669,
     "end_time": "2024-09-05T16:11:43.687752",
     "exception": false,
     "start_time": "2024-09-05T16:11:43.672083",
     "status": "completed"
    },
    "tags": []
   },
   "source": [
    "# Top 10 Categories with the Highest Total Number of Installs"
   ]
  },
  {
   "cell_type": "code",
   "execution_count": 31,
   "id": "e599ce03",
   "metadata": {
    "execution": {
     "iopub.execute_input": "2024-09-05T16:11:43.726664Z",
     "iopub.status.busy": "2024-09-05T16:11:43.726263Z",
     "iopub.status.idle": "2024-09-05T16:11:43.741094Z",
     "shell.execute_reply": "2024-09-05T16:11:43.737734Z"
    },
    "papermill": {
     "duration": 0.03983,
     "end_time": "2024-09-05T16:11:43.744031",
     "exception": false,
     "start_time": "2024-09-05T16:11:43.704201",
     "status": "completed"
    },
    "tags": []
   },
   "outputs": [
    {
     "data": {
      "text/plain": [
       "Category\n",
       "GAME                  35086024415\n",
       "COMMUNICATION         32647276251\n",
       "PRODUCTIVITY          14176091369\n",
       "SOCIAL                14069867902\n",
       "TOOLS                 11452771915\n",
       "FAMILY                10258263505\n",
       "PHOTOGRAPHY           10088247655\n",
       "NEWS_AND_MAGAZINES     7496317760\n",
       "TRAVEL_AND_LOCAL       6868887146\n",
       "VIDEO_PLAYERS          6222002720\n",
       "Name: Installs, dtype: int64"
      ]
     },
     "execution_count": 31,
     "metadata": {},
     "output_type": "execute_result"
    }
   ],
   "source": [
    "data.groupby('Category')['Installs'].sum().sort_values(ascending=False).head(10)"
   ]
  },
  {
   "cell_type": "markdown",
   "id": "e179610e",
   "metadata": {
    "papermill": {
     "duration": 0.019682,
     "end_time": "2024-09-05T16:11:43.783321",
     "exception": false,
     "start_time": "2024-09-05T16:11:43.763639",
     "status": "completed"
    },
    "tags": []
   },
   "source": [
    "# Top 10 Categories with the Highest Total Number of Reviews"
   ]
  },
  {
   "cell_type": "code",
   "execution_count": 32,
   "id": "f35ca74e",
   "metadata": {
    "execution": {
     "iopub.execute_input": "2024-09-05T16:11:43.817727Z",
     "iopub.status.busy": "2024-09-05T16:11:43.817005Z",
     "iopub.status.idle": "2024-09-05T16:11:43.827215Z",
     "shell.execute_reply": "2024-09-05T16:11:43.826286Z"
    },
    "papermill": {
     "duration": 0.029556,
     "end_time": "2024-09-05T16:11:43.829225",
     "exception": false,
     "start_time": "2024-09-05T16:11:43.799669",
     "status": "completed"
    },
    "tags": []
   },
   "outputs": [
    {
     "data": {
      "text/plain": [
       "Category\n",
       "GAME               1585422349\n",
       "COMMUNICATION       815462260\n",
       "SOCIAL              621241422\n",
       "FAMILY              410226330\n",
       "TOOLS               273185044\n",
       "PHOTOGRAPHY         213516650\n",
       "SHOPPING            115041222\n",
       "PRODUCTIVITY        114116975\n",
       "VIDEO_PLAYERS       110380188\n",
       "PERSONALIZATION      89346140\n",
       "Name: Reviews, dtype: int64"
      ]
     },
     "execution_count": 32,
     "metadata": {},
     "output_type": "execute_result"
    }
   ],
   "source": [
    "data.groupby('Category')['Reviews'].sum().sort_values(ascending=False).head(10)"
   ]
  },
  {
   "cell_type": "markdown",
   "id": "f6ea03aa",
   "metadata": {
    "papermill": {
     "duration": 0.016144,
     "end_time": "2024-09-05T16:11:43.861485",
     "exception": false,
     "start_time": "2024-09-05T16:11:43.845341",
     "status": "completed"
    },
    "tags": []
   },
   "source": [
    "# Top 10 Categories with the Highest Average Rating"
   ]
  },
  {
   "cell_type": "code",
   "execution_count": 33,
   "id": "acbe4644",
   "metadata": {
    "execution": {
     "iopub.execute_input": "2024-09-05T16:11:43.895889Z",
     "iopub.status.busy": "2024-09-05T16:11:43.895129Z",
     "iopub.status.idle": "2024-09-05T16:11:43.906247Z",
     "shell.execute_reply": "2024-09-05T16:11:43.905367Z"
    },
    "papermill": {
     "duration": 0.03056,
     "end_time": "2024-09-05T16:11:43.908205",
     "exception": false,
     "start_time": "2024-09-05T16:11:43.877645",
     "status": "completed"
    },
    "tags": []
   },
   "outputs": [
    {
     "data": {
      "text/plain": [
       "Category\n",
       "EVENTS                 4.435556\n",
       "EDUCATION              4.389032\n",
       "ART_AND_DESIGN         4.358065\n",
       "BOOKS_AND_REFERENCE    4.346067\n",
       "PERSONALIZATION        4.335987\n",
       "PARENTING              4.300000\n",
       "GAME                   4.286326\n",
       "BEAUTY                 4.278571\n",
       "HEALTH_AND_FITNESS     4.277104\n",
       "SHOPPING               4.259664\n",
       "Name: Rating, dtype: float64"
      ]
     },
     "execution_count": 33,
     "metadata": {},
     "output_type": "execute_result"
    }
   ],
   "source": [
    "data.groupby('Category')['Rating'].mean().sort_values(ascending=False).head(10)"
   ]
  },
  {
   "cell_type": "markdown",
   "id": "adf2c358",
   "metadata": {
    "papermill": {
     "duration": 0.019333,
     "end_time": "2024-09-05T16:11:43.947166",
     "exception": false,
     "start_time": "2024-09-05T16:11:43.927833",
     "status": "completed"
    },
    "tags": []
   },
   "source": [
    "# Top 10 Categories with the Highest Average Price"
   ]
  },
  {
   "cell_type": "code",
   "execution_count": 34,
   "id": "963df47a",
   "metadata": {
    "execution": {
     "iopub.execute_input": "2024-09-05T16:11:43.982278Z",
     "iopub.status.busy": "2024-09-05T16:11:43.981325Z",
     "iopub.status.idle": "2024-09-05T16:11:43.993399Z",
     "shell.execute_reply": "2024-09-05T16:11:43.992437Z"
    },
    "papermill": {
     "duration": 0.03232,
     "end_time": "2024-09-05T16:11:43.996008",
     "exception": false,
     "start_time": "2024-09-05T16:11:43.963688",
     "status": "completed"
    },
    "tags": []
   },
   "outputs": [
    {
     "data": {
      "text/plain": [
       "Category\n",
       "FINANCE                7.925765\n",
       "LIFESTYLE              6.180288\n",
       "MEDICAL                3.110065\n",
       "EVENTS                 1.718594\n",
       "FAMILY                 1.234675\n",
       "PRODUCTIVITY           0.591816\n",
       "BOOKS_AND_REFERENCE    0.518485\n",
       "BUSINESS               0.402761\n",
       "PHOTOGRAPHY            0.400627\n",
       "WEATHER                0.395366\n",
       "Name: Price, dtype: float64"
      ]
     },
     "execution_count": 34,
     "metadata": {},
     "output_type": "execute_result"
    }
   ],
   "source": [
    "data.groupby('Category')['Price'].mean().sort_values(ascending=False).head(10)"
   ]
  }
 ],
 "metadata": {
  "kaggle": {
   "accelerator": "gpu",
   "dataSources": [
    {
     "datasetId": 49864,
     "sourceId": 274957,
     "sourceType": "datasetVersion"
    }
   ],
   "dockerImageVersionId": 30761,
   "isGpuEnabled": true,
   "isInternetEnabled": true,
   "language": "python",
   "sourceType": "notebook"
  },
  "kernelspec": {
   "display_name": "Python 3",
   "language": "python",
   "name": "python3"
  },
  "language_info": {
   "codemirror_mode": {
    "name": "ipython",
    "version": 3
   },
   "file_extension": ".py",
   "mimetype": "text/x-python",
   "name": "python",
   "nbconvert_exporter": "python",
   "pygments_lexer": "ipython3",
   "version": "3.10.14"
  },
  "papermill": {
   "default_parameters": {},
   "duration": 8.809863,
   "end_time": "2024-09-05T16:11:44.532899",
   "environment_variables": {},
   "exception": null,
   "input_path": "__notebook__.ipynb",
   "output_path": "__notebook__.ipynb",
   "parameters": {},
   "start_time": "2024-09-05T16:11:35.723036",
   "version": "2.6.0"
  }
 },
 "nbformat": 4,
 "nbformat_minor": 5
}
